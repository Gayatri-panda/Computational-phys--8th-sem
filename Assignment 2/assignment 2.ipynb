{
 "cells": [
  {
   "cell_type": "code",
   "execution_count": 9,
   "id": "b709b8bd",
   "metadata": {},
   "outputs": [],
   "source": [
    "import numpy as np\n",
    "import math\n",
    "import library2 as lb\n",
    "import matplotlib.pyplot as plt\n",
    "from tqdm import tqdm"
   ]
  },
  {
   "cell_type": "markdown",
   "id": "85149025",
   "metadata": {},
   "source": [
    "# Ques 1:"
   ]
  },
  {
   "cell_type": "code",
   "execution_count": 2,
   "id": "087dd37b",
   "metadata": {},
   "outputs": [
    {
     "name": "stdout",
     "output_type": "stream",
     "text": [
      "Matrix is symmetric\n",
      "Solution using Cholesky decomposition: [1. 1. 1. 1. 1. 1.]\n",
      "iterations for gauss siedel: 17\n",
      "Solution using Gauss-Seidel method: [1.0000008096, 1.000000691, 1.0000002949, 1.0000004886, 1.0000004171, 1.000000178]\n"
     ]
    }
   ],
   "source": [
    "# Define the matrix A\n",
    "A = np.loadtxt('matrices1.txt', max_rows=6)\n",
    "\n",
    "# Read the vector B from the file\n",
    "b = np.loadtxt('matrices1.txt', skiprows=6)\n",
    "\n",
    "# Check if the matrix is symmetric\n",
    "if lb.symmetric(A):\n",
    "    print(\"Matrix is symmetric\")\n",
    "else:\n",
    "    print(\"Matrix is not symmetric\")\n",
    "\n",
    "# Solve using Cholesky decomposition\n",
    "x_cho = lb.cholesky_solver(A, b)\n",
    "print(\"Solution using Cholesky decomposition:\", x_cho)\n",
    "\n",
    "# Gauss-Seidel method\n",
    "x = lb.gauss_seidel_method(A, b)\n",
    "print(\"Solution using Gauss-Seidel method:\", x)\n"
   ]
  },
  {
   "cell_type": "markdown",
   "id": "83f08a28",
   "metadata": {},
   "source": [
    "# Ques 2:"
   ]
  },
  {
   "cell_type": "code",
   "execution_count": 3,
   "id": "757b1db4",
   "metadata": {},
   "outputs": [
    {
     "name": "stdout",
     "output_type": "stream",
     "text": [
      "The diagonally dominant matrix is [[11, 3, 0, 1, 2], [0, 4, 2, 0, 1], [3, 2, 7, 1, 0], [4, 0, 4, 10, 1], [2, 5, 1, 3, 13]] [51, 20, 15, 15, 92]\n",
      "The solution of the linear equation using gauss jordan  is :  [ 2.67460205  3.71188539 -0.05330739 -0.07442519  5.25907322]\n",
      "The solution of the linear equation using lu decomposition is :  [2.6746020516448534, 3.7118853908737175, -0.053307392996108635, -0.07442518570923286, 5.2590732224973475]\n"
     ]
    }
   ],
   "source": [
    "# Read the matrix A from the file\n",
    "A = np.loadtxt('matrices2.txt', max_rows=6)\n",
    "\n",
    "# Read the vector B from the file\n",
    "b= np.loadtxt('matrices2.txt', skiprows=6)\n",
    "\n",
    "\n",
    "B,C=lb.diagonally_dominant(A,b)\n",
    "print(\"The diagonally dominant matrix is\", B,C)\n",
    "\n",
    "\n",
    "z,y = lb.gauss(B,C)\n",
    "print(\"The solution of the linear equation using gauss jordan  is : \", y)\n",
    "\n",
    "\n",
    "lb.LU_decompose(B,C)  \n",
    "print(\"The solution of the linear equation using lu decomposition is : \", b)\n",
    "\n"
   ]
  },
  {
   "cell_type": "markdown",
   "id": "fd4987bd",
   "metadata": {},
   "source": [
    "# Ques 3:"
   ]
  },
  {
   "cell_type": "code",
   "execution_count": 16,
   "id": "7e0f9c24",
   "metadata": {},
   "outputs": [
    {
     "name": "stdout",
     "output_type": "stream",
     "text": [
      "Matrix is not symmetric\n",
      "Solution using Conjugate Gradient method: [-3.33333344e-01  3.33333595e-01  1.00000010e+00 -6.66665836e-01\n",
      "  5.92018048e-07  6.66667023e-01]\n",
      "iterations for gauss siedel: 41\n",
      "Solution using Gauss-Seidel method: [-0.3333307461, 0.3333346527, 1.000000498, -0.6666639904, 1.2504e-06, 0.6666671871]\n"
     ]
    },
    {
     "name": "stderr",
     "output_type": "stream",
     "text": [
      "100%|██████████| 6/6 [00:00<00:00, 37.93it/s]\n"
     ]
    },
    {
     "name": "stdout",
     "output_type": "stream",
     "text": [
      "[[ 0.93506435  0.87020904  2.5862825   0.2077916   0.41562301 -3.57266074]\n",
      " [ 0.29004306  0.58016411 -0.30284142  0.13852799  0.27705066 -2.1030247 ]\n",
      " [ 0.08658004  0.1731777  -1.35751346  0.05627698  0.11247155 -2.01379156]\n",
      " [ 0.2077916   0.41562301 -3.57266074  0.93506435  0.87020904  2.5862825 ]\n",
      " [ 0.13852799  0.27705066 -2.1030247   0.29004306  0.58016411 -0.30284142]\n",
      " [ 0.05627698  0.11247155 -2.01379156  0.08658004  0.1731777  -1.35751346]]\n"
     ]
    },
    {
     "data": {
      "text/plain": [
       "<matplotlib.image.AxesImage at 0x1a6d737a640>"
      ]
     },
     "execution_count": 16,
     "metadata": {},
     "output_type": "execute_result"
    },
    {
     "data": {
      "image/png": "[encoded data removed]",
      "text/plain": [
       "<Figure size 432x288 with 1 Axes>"
      ]
     },
     "metadata": {
      "needs_background": "light"
     },
     "output_type": "display_data"
    }
   ],
   "source": [
    "\n",
    "# Read the matrix A from the file\n",
    "A = np.loadtxt('matrices3.txt', max_rows=6)\n",
    "\n",
    "# Read the vector B from the file\n",
    "b= np.loadtxt('matrices3.txt', skiprows=6)\n",
    "\n",
    "\n",
    "if lb.symmetric(A):\n",
    "    print(\"Matrix is symmetric\")\n",
    "else:\n",
    "    print(\"Matrix is not symmetric\")\n",
    "\n",
    "\n",
    "\n",
    "# Define the initial guess\n",
    "x0 = np.zeros_like(b)\n",
    "# Set the tolerance and maximum number of iterations\n",
    "tol = 1e-6\n",
    "\n",
    "# Solve the system of equations using the Conjugate Gradient method\n",
    "x = lb.cg(A, x0, b, 1000, tol)\n",
    "\n",
    "# Print the solution\n",
    "print(\"Solution using Conjugate Gradient method:\", x)\n",
    "\n",
    "#check using gauss-seidel method\n",
    "x = lb.gauss_seidel_method(A, b)\n",
    "print(\"Solution using Gauss-Seidel method:\", x)\n",
    "\n",
    "# Finding the inverse of a matrix using Conjugate Gradient method\n",
    "n = len(b)\n",
    "Ai = np.zeros((n,n))\n",
    "for i in tqdm(range(n)):\n",
    "    b = np.zeros(n)\n",
    "    b[i] = 1\n",
    "    x0 = np.ones(n)\n",
    "    x = lb.cg(A, x0, b, 1000, 1e-6)\n",
    "    Ai[i] = x\n",
    "Ai = Ai.T\n",
    "print(Ai)\n",
    "plt.imshow(np.dot(A,Ai))"
   ]
  },
  {
   "cell_type": "markdown",
   "id": "6573ae40",
   "metadata": {},
   "source": [
    "# Ques 4"
   ]
  },
  {
   "cell_type": "code",
   "execution_count": 10,
   "id": "95b27a60",
   "metadata": {},
   "outputs": [
    {
     "name": "stderr",
     "output_type": "stream",
     "text": [
      "100%|██████████| 50/50 [00:19<00:00,  2.54it/s]"
     ]
    },
    {
     "name": "stdout",
     "output_type": "stream",
     "text": [
      "[[-2.11578492 -2.06230706 -1.84384462 ... -1.5936755  -1.13901763\n",
      "  -0.59323835]\n",
      " [-2.06230706 -3.95962955 -3.54018167 ... -3.05985695 -2.18691384\n",
      "  -1.13901763]\n",
      " [-1.84384462 -3.54018167 -4.95330419 ... -4.28124985 -3.05985695\n",
      "  -1.5936755 ]\n",
      " ...\n",
      " [-1.5936755  -3.05985695 -4.28124985 ... -4.95330419 -3.54018167\n",
      "  -1.84384462]\n",
      " [-1.13901763 -2.18691384 -3.05985695 ... -3.54018167 -3.95962955\n",
      "  -2.06230706]\n",
      " [-0.59323835 -1.13901763 -1.5936755  ... -1.84384462 -2.06230706\n",
      "  -2.11578492]]\n"
     ]
    },
    {
     "name": "stderr",
     "output_type": "stream",
     "text": [
      "\n"
     ]
    },
    {
     "data": {
      "text/plain": [
       "<matplotlib.image.AxesImage at 0x1a6d627f070>"
      ]
     },
     "execution_count": 10,
     "metadata": {},
     "output_type": "execute_result"
    },
    {
     "data": {
      "image/png": "[encoded data removed]",
      "text/plain": [
       "<Figure size 432x288 with 1 Axes>"
      ]
     },
     "metadata": {
      "needs_background": "light"
     },
     "output_type": "display_data"
    }
   ],
   "source": [
    "def mat(x, y):\n",
    "    return (delta(x+1, y) + delta(x-1, y) - 2*delta(x, y))*0.5 + 0.04* delta(x, y)\n",
    "\n",
    "\n",
    "n = 50\n",
    "Ai = np.zeros((n,n))\n",
    "r = np.zeros((50,50))\n",
    "for i in tqdm(range(n)):\n",
    "    b = np.zeros(n)\n",
    "    b[i] = 1\n",
    "    x0 = np.ones(n)\n",
    "    x, res = lb.cg_4(x0, b, 1000, 1e-6)\n",
    "    r[i][:len(res)] = res\n",
    "    Ai[i] = x\n",
    "\n",
    "print(Ai)\n",
    "plt.imshow(Ai)\n"
   ]
  },
  {
   "cell_type": "markdown",
   "id": "7b81b469",
   "metadata": {},
   "source": [
    "Plot of residue vs Iterations"
   ]
  },
  {
   "cell_type": "code",
   "execution_count": 13,
   "id": "63f55146",
   "metadata": {},
   "outputs": [
    {
     "name": "stdout",
     "output_type": "stream",
     "text": [
      "The step number displayed: 17\n"
     ]
    }
   ],
   "source": [
    "import random\n",
    "# generate random number between 0 to 49\n",
    "random_number = random.randint(0, 49)\n",
    "print(\"The step number displayed:\",random_number)"
   ]
  },
  {
   "cell_type": "code",
   "execution_count": 14,
   "id": "48ab362e",
   "metadata": {},
   "outputs": [
    {
     "data": {
      "image/png": "[encoded data removed]",
      "text/plain": [
       "<Figure size 504x504 with 1 Axes>"
      ]
     },
     "metadata": {
      "needs_background": "light"
     },
     "output_type": "display_data"
    }
   ],
   "source": [
    "iter = np.arange(0, 50)\n",
    "\n",
    "plt.figure(figsize=(7,7))\n",
    "plt.plot(iter, r[random_number])\n",
    "plt.xlabel('Iterations')\n",
    "plt.ylabel('Residue')\n",
    "plt.title('Residue vs Iterations')\n",
    "plt.show()"
   ]
  },
  {
   "cell_type": "code",
   "execution_count": null,
   "id": "e0999d4b",
   "metadata": {},
   "outputs": [],
   "source": []
  },
  {
   "cell_type": "code",
   "execution_count": null,
   "id": "19e7fb3d",
   "metadata": {},
   "outputs": [],
   "source": []
  }
 ],
 "metadata": {
  "kernelspec": {
   "display_name": "Python 3 (ipykernel)",
   "language": "python",
   "name": "python3"
  },
  "language_info": {
   "codemirror_mode": {
    "name": "ipython",
    "version": 3
   },
   "file_extension": ".py",
   "mimetype": "text/x-python",
   "name": "python",
   "nbconvert_exporter": "python",
   "pygments_lexer": "ipython3",
   "version": "3.9.12"
  }
 },
 "nbformat": 4,
 "nbformat_minor": 5
}
