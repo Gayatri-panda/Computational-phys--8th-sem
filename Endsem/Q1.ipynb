{
 "cells": [
  {
   "cell_type": "code",
   "execution_count": 1,
   "id": "d25c3170",
   "metadata": {},
   "outputs": [],
   "source": [
    "import numpy as np\n",
    "import math\n",
    "import matplotlib.pyplot as plt\n",
    "import pandas as pd\n",
    "from scipy.optimize import minimize\n",
    "import scipy.stats"
   ]
  },
  {
   "cell_type": "markdown",
   "id": "d121a9b9",
   "metadata": {},
   "source": [
    "# Ques 1"
   ]
  },
  {
   "cell_type": "code",
   "execution_count": 2,
   "id": "79d7d930",
   "metadata": {},
   "outputs": [],
   "source": [
    "def linear_regression(X,Y, sig):\n",
    "    \n",
    "    chi2 = 0\n",
    "    S = 0\n",
    "    Sx = 0\n",
    "    Sy = 0\n",
    "    Sxx = 0\n",
    "    Sxy = 0\n",
    "    Syy = 0\n",
    "    Y1 = [0 for i in range(len(X))]\n",
    "    \n",
    "    for i in range(len(X)):\n",
    "        \n",
    "        S = S + 1/(sig[i]**2)\n",
    "        Sx = Sx + X[i]/(sig[i]**2)\n",
    "        Sy = Sy + Y[i]/(sig[i]**2)\n",
    "        Sxx = Sxx + (X[i]**2)/(sig[i]**2)\n",
    "        Sxy = Sxy + (X[i]*Y[i])/(sig[i]**2)\n",
    "        \n",
    "    delta = S*Sxx - (Sx**2)\n",
    "    a = (Sxx*Sy - Sx*Sxy)/delta\n",
    "    b = (S*Sxy - Sx*Sy)/delta\n",
    "        \n",
    "    covab = -Sx/delta\n",
    "    sig2_a = Sxx/delta\n",
    "    err_a = math.sqrt(sig2_a)\n",
    "    sig2_b = S/delta\n",
    "    err_b = math.sqrt(sig2_b)\n",
    "    for i in range(len(X)):\n",
    "        Y1[i] = a + b * X[i]\n",
    "        chi2 = chi2 + ((Y[i] - Y1[i])/sig[i])**2\n",
    "        \n",
    "    return a,b, covab, err_a, err_b\n",
    "\n",
    "def readfile(filename,start):\n",
    "    with open(filename,\"r+\") as f:\n",
    "        lines = f.readlines()\n",
    "        A=[]\n",
    "        for i in range(start,len(lines)):\n",
    "            A.append([float(j) for j in lines[i].split()])\n",
    "        del lines\n",
    "        return A"
   ]
  },
  {
   "cell_type": "code",
   "execution_count": 3,
   "id": "5282b523",
   "metadata": {},
   "outputs": [],
   "source": [
    "\n",
    "# Read data from file\n",
    "data = pd.read_csv('esemfit.txt', sep='\\s+', header=None)\n",
    "time = data.iloc[:, 0]\n",
    "counts = data.iloc[:, 1]\n",
    "sigma = data.iloc[:, 2]\n",
    "\n",
    "# Calculating log\n",
    "ln_counts = np.log(counts)\n",
    "sigma_ln_counts = 1 / np.sqrt(counts)"
   ]
  },
  {
   "cell_type": "code",
   "execution_count": 4,
   "id": "8379776b",
   "metadata": {},
   "outputs": [
    {
     "name": "stdout",
     "output_type": "stream",
     "text": [
      "the lifetime of the radioactive material was 110.0380598212136\n",
      "The error in the lifetime was 17.042096605166556\n"
     ]
    }
   ],
   "source": [
    "\n",
    "a,t, covab, err_a, err_b=linear_regression(time, ln_counts , sigma_ln_counts)\n",
    "lifetime = -1/t\n",
    "print('the lifetime of the radioactive material was',lifetime)\n",
    "\n",
    "error = lifetime * np.sqrt(np.sum(sigma_ln_counts ** 2) / (len(time) - 2))\n",
    "print('The error in the lifetime was',error)"
   ]
  },
  {
   "cell_type": "code",
   "execution_count": 9,
   "id": "941f8f9e",
   "metadata": {},
   "outputs": [
    {
     "name": "stdout",
     "output_type": "stream",
     "text": [
      "The fit is acceptable at the 5% level of significance.\n"
     ]
    },
    {
     "data": {
      "image/png": "[encoded data removed]",
      "text/plain": [
       "<Figure size 432x288 with 1 Axes>"
      ]
     },
     "metadata": {
      "needs_background": "light"
     },
     "output_type": "display_data"
    },
    {
     "name": "stdout",
     "output_type": "stream",
     "text": [
      "Lifetime: 110.0381 ± 17.0421 s\n"
     ]
    }
   ],
   "source": [
    "# Check if the fit is acceptable at the 5% level of significance\n",
    "alpha = 0.05\n",
    "df = len(time) - 2 \n",
    "critical = scipy.stats.chi2.ppf(1 - alpha, df)\n",
    "\n",
    "# Calculate reduced χ²\n",
    "reduced_chi_square = (np.sum(((ln_counts - a - t * time) / sigma_ln_counts) ** 2) / (len(time) - 2))\n",
    "\n",
    "if reduced_chi_square < critical:\n",
    "    print(f'The fit is acceptable at the 5% level of significance.')\n",
    "else:\n",
    "    print(f'The fit is NOT acceptable at the 5% level of significance.')\n",
    "    \n",
    "# Plot data and fit\n",
    "plt.errorbar(time, ln_counts, yerr=sigma_ln_counts, fmt='o', label='Data')\n",
    "plt.plot(time, a + t * time, label=f'Fit: tau = {t:.4f} ± {error:.4f}')\n",
    "plt.xlabel('Time (s)')\n",
    "plt.ylabel('ln(Counts)')\n",
    "plt.title('Decaying Radioactive Source Fit')\n",
    "plt.legend()\n",
    "plt.show()\n",
    "\n",
    "# Print results\n",
    "print(f'Lifetime: {lifetime:.4f} ± {error:.4f} s')"
   ]
  }
 ],
 "metadata": {
  "kernelspec": {
   "display_name": "Python 3 (ipykernel)",
   "language": "python",
   "name": "python3"
  },
  "language_info": {
   "codemirror_mode": {
    "name": "ipython",
    "version": 3
   },
   "file_extension": ".py",
   "mimetype": "text/x-python",
   "name": "python",
   "nbconvert_exporter": "python",
   "pygments_lexer": "ipython3",
   "version": "3.9.12"
  }
 },
 "nbformat": 4,
 "nbformat_minor": 5
}
