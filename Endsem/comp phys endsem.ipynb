{
 "cells": [
  {
   "cell_type": "code",
   "execution_count": 196,
   "id": "67f2ba55",
   "metadata": {},
   "outputs": [],
   "source": [
    "import numpy as np\n",
    "import math\n",
    "import matplotlib.pyplot as plt\n",
    "import pandas as pd\n",
    "import scipy.stats"
   ]
  },
  {
   "cell_type": "markdown",
   "id": "b5787a43",
   "metadata": {},
   "source": [
    "# Ques 1"
   ]
  },
  {
   "cell_type": "code",
   "execution_count": 197,
   "id": "512887e5",
   "metadata": {},
   "outputs": [],
   "source": [
    "def linear_regression(X,Y, sig):\n",
    "    chi2 = 0\n",
    "    S = 0\n",
    "    Sx = 0\n",
    "    Sy = 0\n",
    "    Sxx = 0\n",
    "    Sxy = 0\n",
    "    Syy = 0\n",
    "    Y1 = [0 for i in range(len(X))]\n",
    "    \n",
    "    for i in range(len(X)):\n",
    "        \n",
    "        S = S + 1/(sig[i]**2)\n",
    "        Sx = Sx + X[i]/(sig[i]**2)\n",
    "        Sy = Sy + Y[i]/(sig[i]**2)\n",
    "        Sxx = Sxx + (X[i]**2)/(sig[i]**2)\n",
    "        Sxy = Sxy + (X[i]*Y[i])/(sig[i]**2)\n",
    "        \n",
    "    delta = S*Sxx - (Sx**2)\n",
    "    a = (Sxx*Sy - Sx*Sxy)/delta\n",
    "    b = (S*Sxy - Sx*Sy)/delta\n",
    "        \n",
    "    covab = -Sx/delta\n",
    "    sig2_a = Sxx/delta\n",
    "    err_a = math.sqrt(sig2_a)\n",
    "    sig2_b = S/delta\n",
    "    err_b = math.sqrt(sig2_b)\n",
    "    for i in range(len(X)):\n",
    "        Y1[i] = a + b * X[i]\n",
    "        chi2 = chi2 + ((Y[i] - Y1[i])/sig[i])**2\n",
    "        \n",
    "    return a,b, covab, err_a, err_b\n",
    "\n",
    "def readfile(filename,start):\n",
    "    with open(filename,\"r+\") as f:\n",
    "        lines = f.readlines()\n",
    "        A=[]\n",
    "        for i in range(start,len(lines)):\n",
    "            A.append([float(j) for j in lines[i].split()])\n",
    "        del lines\n",
    "        return A"
   ]
  },
  {
   "cell_type": "code",
   "execution_count": 198,
   "id": "2341905a",
   "metadata": {},
   "outputs": [],
   "source": [
    "\n",
    "# Read data from file\n",
    "data = pd.read_csv('esemfit.txt', sep='\\s+', header=None)\n",
    "time = data.iloc[:, 0]\n",
    "counts = data.iloc[:, 1]\n",
    "sigma = data.iloc[:, 2]\n",
    "\n",
    "# Calculating log\n",
    "ln_counts = np.log(counts)\n",
    "sigma_ln_counts = 1 / np.sqrt(counts)"
   ]
  },
  {
   "cell_type": "code",
   "execution_count": 186,
   "id": "2f037b74",
   "metadata": {},
   "outputs": [
    {
     "name": "stdout",
     "output_type": "stream",
     "text": [
      "4.728994510251189 -0.009087764739079995 -5.222243727605437e-05 0.06484300759573301 0.0010104864480200628\n"
     ]
    }
   ],
   "source": [
    "\n",
    "a,t, covab, err_a, err_b=linear_regression(time, ln_counts , sigma_ln_counts)\n",
    "print(a,t, covab, err_a, err_b)"
   ]
  },
  {
   "cell_type": "code",
   "execution_count": 187,
   "id": "25fc525c",
   "metadata": {},
   "outputs": [
    {
     "name": "stdout",
     "output_type": "stream",
     "text": [
      "the lifetime of the radioactive material was 110.0380598212136\n",
      "The error in the lifetime was 17.042096605166556\n"
     ]
    }
   ],
   "source": [
    "lifetime = -1/t\n",
    "print('the lifetime of the radioactive material was',lifetime)\n",
    "error = lifetime * np.sqrt(np.sum(sigma_ln_counts ** 2) / (len(time) - 2))\n",
    "print('The error in the lifetime was',error)"
   ]
  },
  {
   "cell_type": "code",
   "execution_count": 188,
   "id": "299b58b5",
   "metadata": {},
   "outputs": [
    {
     "name": "stdout",
     "output_type": "stream",
     "text": [
      "The fit is acceptable at the 5% level of significance.\n"
     ]
    },
    {
     "data": {
      "image/png": "[encoded data removed]",
      "text/plain": [
       "<Figure size 432x288 with 1 Axes>"
      ]
     },
     "metadata": {
      "needs_background": "light"
     },
     "output_type": "display_data"
    },
    {
     "name": "stdout",
     "output_type": "stream",
     "text": [
      "Lifetime: 110.0381 ± 17.0421 s\n"
     ]
    }
   ],
   "source": [
    "# Check if the fit is acceptable at the 5% level of significance\n",
    "alpha = 0.05\n",
    "df = len(time) - 2 \n",
    "critical = scipy.stats.chi2.ppf(1 - alpha, df)\n",
    "\n",
    "# Calculate reduced χ²\n",
    "reduced_chi_square = (np.sum(((ln_counts - a - t * time) / sigma_ln_counts) ** 2) / (len(time) - 2))\n",
    "\n",
    "if reduced_chi_square < critical:\n",
    "    print(f'The fit is acceptable at the 5% level of significance.')\n",
    "else:\n",
    "    print(f'The fit is NOT acceptable at the 5% level of significance.')\n",
    "    \n",
    "# Plot data and fit\n",
    "plt.errorbar(time, ln_counts, yerr=sigma_ln_counts, fmt='o', label='Data')\n",
    "plt.plot(time, a + t * time, label=f'Fit: tau = {t:.4f} ± {error:.4f}')\n",
    "plt.xlabel('Time (s)')\n",
    "plt.ylabel('ln(Counts)')\n",
    "plt.title('Decaying Radioactive Source Fit')\n",
    "plt.legend()\n",
    "plt.show()\n",
    "\n",
    "# Print results\n",
    "print(f'Lifetime: {lifetime:.4f} ± {error:.4f} s')"
   ]
  },
  {
   "cell_type": "markdown",
   "id": "98160374",
   "metadata": {},
   "source": [
    "# Ques 2 :"
   ]
  },
  {
   "cell_type": "code",
   "execution_count": 189,
   "id": "885ece77",
   "metadata": {},
   "outputs": [
    {
     "name": "stdout",
     "output_type": "stream",
     "text": [
      "V = 3.92995 L\n",
      "Number of iterations: 9\n"
     ]
    }
   ],
   "source": [
    "import numpy as np\n",
    "\n",
    "# Constants\n",
    "p = 5.95\n",
    "R = 0.0821\n",
    "a = 6.254\n",
    "b = 0.05422\n",
    "T = 300\n",
    "\n",
    "# Fixed point function for V\n",
    "def f(V):\n",
    "    return b + R*T/(p + a/(V**2))\n",
    "\n",
    "V = 1.0 # Initial guess for V\n",
    "e = 1e-5#Tolerance\n",
    "i = 1000#iterations\n",
    "\n",
    "#Fixed point iterations\n",
    "for i in range(i):\n",
    "    Vn = f(V)\n",
    "    diff = np.abs(Vn - V)\n",
    "    if diff < e:\n",
    "        break\n",
    "    V = Vn\n",
    "\n",
    "# Print the result\n",
    "print(\"V = {:.5f} L\".format(V))\n",
    "print(\"Number of iterations: {}\".format(i+1))"
   ]
  },
  {
   "cell_type": "code",
   "execution_count": 190,
   "id": "319e8e2e",
   "metadata": {},
   "outputs": [
    {
     "name": "stdout",
     "output_type": "stream",
     "text": [
      "V = 22846.61452 L\n",
      "Number of iterations: 35\n"
     ]
    }
   ],
   "source": [
    "#for another fixed point equation\n",
    "\n",
    "P = 5.95\n",
    "R = 0.0821\n",
    "a = 6.254\n",
    "b = 0.05422\n",
    "T = 300\n",
    "\n",
    "def f(V):\n",
    "    return np.sqrt(a*(V-b)/R*T-P*(V-b))\n",
    "\n",
    "V = 1.0 # Initial guess for V\n",
    "e = 1e-5\n",
    "i = 1000\n",
    "\n",
    "#Fixed point iterations\n",
    "for i in range(i):\n",
    "    Vn = f(V)\n",
    "    diff = np.abs(Vn - V)\n",
    "    if diff < e:\n",
    "        break\n",
    "    V = Vn\n",
    "\n",
    "# Print the result\n",
    "print(\"V = {:.5f} L\".format(V))\n",
    "print(\"Number of iterations: {}\".format(i+1))\n"
   ]
  },
  {
   "cell_type": "markdown",
   "id": "5c35e308",
   "metadata": {},
   "source": [
    "Here, we can see that for different fixed point equations , we get different solutions for different fixed point equations, it is because we calculate from a fixed point, and take difference as we iterate, for different curves, that might be different."
   ]
  },
  {
   "cell_type": "markdown",
   "id": "9de24fbb",
   "metadata": {},
   "source": [
    "# Ques 5:"
   ]
  },
  {
   "cell_type": "code",
   "execution_count": 191,
   "id": "dbc6e235",
   "metadata": {},
   "outputs": [
    {
     "name": "stdout",
     "output_type": "stream",
     "text": [
      "[[ 2. -1.  0.  0.  0.]\n",
      " [-1.  2. -1.  0.  0.]\n",
      " [ 0. -1.  2. -1.  0.]\n",
      " [ 0.  0. -1.  2. -1.]\n",
      " [ 0.  0.  0. -1.  2.]]\n"
     ]
    }
   ],
   "source": [
    "Q=np.array(readfile(\"matrix5.txt\",0))\n",
    "print(Q)\n",
    "\n",
    "def power_method(A, num: int):\n",
    "    n = A.shape[0]\n",
    "    v = np.random.rand(n)\n",
    "    for _ in range(num):\n",
    "        Av = np.dot(A, v)\n",
    "        v = Av / np.linalg.norm(Av)\n",
    "    eigenvalue = np.dot(v, np.dot(A, v)) / np.dot(v, v)\n",
    "    eigenvector = v\n",
    "\n",
    "    return eigenvalue, eigenvector"
   ]
  },
  {
   "cell_type": "code",
   "execution_count": 192,
   "id": "0e0df391",
   "metadata": {},
   "outputs": [
    {
     "name": "stdout",
     "output_type": "stream",
     "text": [
      "Calculated via the power method\n",
      "Eigenvalue 1: 3.7320508075688776\n",
      "Eigenvector 1: [-0.28867513  0.5        -0.57735027  0.5        -0.28867513]\n",
      "\n",
      "Eigenvalue 2: 3.0\n",
      "Eigenvector 2: [-5.00000000e-01  5.00000000e-01  1.38777878e-17 -5.00000000e-01\n",
      "  5.00000000e-01]\n",
      "\n"
     ]
    }
   ],
   "source": [
    "\n",
    "eigen = []\n",
    "eigenvec = []\n",
    "temp= Q\n",
    "for _ in range(2):\n",
    "    eigenvalue, eigenvector = power_method(temp_matrix, 10000)\n",
    "    eigen.append(eigenvalue)\n",
    "    eigenvec.append(eigenvector)\n",
    "\n",
    "    temp = temp- eigenvalue * np.outer(eigenvector, eigenvector)\n",
    "\n",
    "print(\"Calculated via the power method\")\n",
    "for i in range(2):\n",
    "    print(f\"Eigenvalue {i+1}: {calculated_eigenvalues[i]}\")\n",
    "    print(f\"Eigenvector {i+1}: {calculated_eigenvectors[i]}\")\n",
    "    print()\n",
    "\n"
   ]
  },
  {
   "cell_type": "code",
   "execution_count": 193,
   "id": "c3588bec",
   "metadata": {},
   "outputs": [
    {
     "name": "stdout",
     "output_type": "stream",
     "text": [
      "Theoritical values\n",
      "3.7320508075688776\n",
      "[0.28867513 0.5        0.57735027 0.5        0.28867513]\n",
      "3.0\n",
      "[ 5.00000000e-01  5.00000000e-01  7.07050159e-17 -5.00000000e-01\n",
      " -5.00000000e-01]\n"
     ]
    }
   ],
   "source": [
    "# Verify if they match λk = b + 2√ac cos(kπ/n + 1) and vi_k = 2(√c/a)^k sin(ikπ/n + 1)\n",
    "\n",
    "a = c = -1\n",
    "b = 2\n",
    "n = 5\n",
    "print('Theoritical values')\n",
    "expected_eigenvalues = [b + 2 * np.sqrt(a * c) * np.cos(k * np.pi / (n + 1)) for k in range(1, 6)]\n",
    "expected_eigenvectors = [[2 * (np.sqrt(c / a))**k * np.sin(i * k * np.pi / (n + 1)) for i in range(1, n + 1)] for k in range(1, 6)]\n",
    "\n",
    "expected_eigenvectors = np.array(expected_eigenvectors)\n",
    "expected_eigenvectors = expected_eigenvectors / np.linalg.norm(expected_eigenvectors, axis=1)[:, np.newaxis]\n",
    "\n",
    "for i in range(2):\n",
    "    print( expected_eigenvalues[i])\n",
    "\n",
    "    print( expected_eigenvectors[i])"
   ]
  },
  {
   "cell_type": "markdown",
   "id": "e0957460",
   "metadata": {},
   "source": [
    "The eigen values are matching with theoritical values, whereas, the eigenvectors are differing , because the covergence of eigenvectors is not accurate in power method, since a small error can propogate , and cause large changes in eigenvectors."
   ]
  },
  {
   "cell_type": "markdown",
   "id": "4b507baa",
   "metadata": {},
   "source": [
    "# Ques 6"
   ]
  },
  {
   "cell_type": "code",
   "execution_count": 213,
   "id": "c21404a7",
   "metadata": {},
   "outputs": [
    {
     "data": {
      "image/png": "[encoded data removed]",
      "text/plain": [
       "<Figure size 432x288 with 1 Axes>"
      ]
     },
     "metadata": {
      "needs_background": "light"
     },
     "output_type": "display_data"
    },
    {
     "name": "stdout",
     "output_type": "stream",
     "text": [
      "Success probability: 0.9190\n"
     ]
    }
   ],
   "source": [
    "#Using accept/reject method to generate pseudo random numbers.\n",
    "#given  in the question\n",
    "a = 2\n",
    "n = 1000\n",
    "\n",
    "# Generating the Gaussian distributed samples\n",
    "gauss = np.random.normal(0, 1, num_samples)\n",
    "\n",
    "samples = [] #accepted samples\n",
    "for x in gauss:\n",
    "    if np.abs(x) < a and np.random.uniform(0, 1) < 0.5 * (a**2 - x**2):\n",
    "        samples.append(x)\n",
    "\n",
    "# Plotting the generated distribution\n",
    "plt.hist(samples, bins=50, density=True)\n",
    "x = np.linspace(-a, a, 1000)\n",
    "y = 0.5 * (a**2 - x**2)\n",
    "plt.plot(x, y, 'r', linewidth=2)\n",
    "plt.title('Generated distribution for the pRNG')\n",
    "plt.xlabel('x')\n",
    "plt.ylabel('p(x)')\n",
    "plt.show()\n",
    "\n",
    "# Calculating success probability\n",
    "success_probability = len(samples) / n\n",
    "print(f'Success probability: {success_probability:.4f}')"
   ]
  },
  {
   "cell_type": "markdown",
   "id": "f00a2a59",
   "metadata": {},
   "source": [
    "Success probability calculated as the ratio as the no. of accepted samples to the total no. of samples generated, we get succes probability of 0.91 and around that, which means 91 percent is getting accepted"
   ]
  },
  {
   "cell_type": "markdown",
   "id": "f726291f",
   "metadata": {},
   "source": [
    "# Ques 7"
   ]
  },
  {
   "cell_type": "code",
   "execution_count": 215,
   "id": "48540fa6",
   "metadata": {},
   "outputs": [
    {
     "data": {
      "image/png": "[encoded data removed]",
      "text/plain": [
       "<Figure size 432x288 with 1 Axes>"
      ]
     },
     "metadata": {
      "needs_background": "light"
     },
     "output_type": "display_data"
    },
    {
     "name": "stdout",
     "output_type": "stream",
     "text": [
      "Minimum Energy: -1.2094517995467589\n",
      "Optimal Variational Parameter (a): 1.3157894736842106\n"
     ]
    }
   ],
   "source": [
    "#Define trial function\n",
    "def wf(x,alpha):#trial wavefunction\n",
    "    return 0.5*(alpha**2-x**2)\n",
    "\n",
    "\n",
    "#define prob density\n",
    "def prob_density(x,alpha):\n",
    "    if abs(x)<2:        #The given trial wave function\n",
    "        return 0.25*(alpha**2-x**2)**2\n",
    "    else: \n",
    "        return 0\n",
    "\n",
    "#define E local\n",
    "def E_local(x,alpha):#The local energy calculated in the text\n",
    "    return (-2)/(alpha**2-x**2)-x**2/2\n",
    "\n",
    "def metropolis(N, alpha):\n",
    "    L = 3/np.sqrt(2*alpha) #The length of the well\n",
    "    x = np.random.rand()*2*L-L #random number from -L to L\n",
    "    E = 0\n",
    "    E2 = 0\n",
    "    Eln_average = 0\n",
    "    ln_average = 0\n",
    "    rejection_ratio = 0\n",
    "    for i in range(N):\n",
    "        x_trial = x + 0.4*(np.random.rand()*2*L-L)\n",
    "        #x_trial = np.random.rand()*2*L-L\n",
    "        if prob_density(x_trial,alpha) >= prob_density(x,alpha):\n",
    "            x = x_trial\n",
    "        else:\n",
    "            dummy = np.random.rand()\n",
    "            if dummy < prob_density(x_trial,alpha)/prob_density(x,alpha):\n",
    "                x = x_trial\n",
    "            else:\n",
    "                rejection_ratio += 1/N\n",
    "        E += E_local(x,alpha)/N\n",
    "        E2 += E_local(x,alpha)**2/N\n",
    "        Eln_average += (E_local(x, alpha)*-x**2)/N\n",
    "        ln_average += -x**2/N\n",
    "\n",
    "    return E, E2, Eln_average, ln_average\n",
    "\n",
    "\n",
    "num_steps = 20000\n",
    "num_a_values = 20\n",
    "a_values = np.linspace(1, 2.5, num_a_values)\n",
    "\n",
    "energies = []\n",
    "for a in a_values:\n",
    "    E, E2, Eln_average, ln_average = metropolis(num_steps, a)\n",
    "    energies.append(E)\n",
    "\n",
    "# Find the minimum energy and the corresponding optimal alpha value\n",
    "min_energy = min(energies)\n",
    "optimal_a = a_values[np.argmin(energies)]\n",
    "\n",
    "# Plot the energy as a function of alpha\n",
    "plt.plot(a_values, energies, color='b', linestyle='-')\n",
    "plt.xlabel('Variational Parameter (a)')\n",
    "plt.ylabel('Energy')\n",
    "plt.title('Energy vs. Variational Parameter')\n",
    "plt.grid(True)\n",
    "plt.show()\n",
    "\n",
    "print(\"Minimum Energy:\", min_energy)\n",
    "print(\"Optimal Variational Parameter (a):\", optimal_a)"
   ]
  },
  {
   "cell_type": "code",
   "execution_count": null,
   "id": "aa88ceda",
   "metadata": {},
   "outputs": [],
   "source": []
  }
 ],
 "metadata": {
  "kernelspec": {
   "display_name": "Python 3 (ipykernel)",
   "language": "python",
   "name": "python3"
  },
  "language_info": {
   "codemirror_mode": {
    "name": "ipython",
    "version": 3
   },
   "file_extension": ".py",
   "mimetype": "text/x-python",
   "name": "python",
   "nbconvert_exporter": "python",
   "pygments_lexer": "ipython3",
   "version": "3.9.12"
  }
 },
 "nbformat": 4,
 "nbformat_minor": 5
}
