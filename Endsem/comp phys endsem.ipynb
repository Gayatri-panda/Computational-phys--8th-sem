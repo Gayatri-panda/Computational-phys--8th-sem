{
 "cells": [
  {
   "cell_type": "code",
   "execution_count": 107,
   "id": "9ef1dd70",
   "metadata": {},
   "outputs": [],
   "source": [
    "import numpy as np\n",
    "import math\n",
    "import matplotlib.pyplot as plt\n",
    "import pandas as pd\n",
    "from scipy.optimize import minimize\n",
    "import scipy.stats"
   ]
  },
  {
   "cell_type": "markdown",
   "id": "1dfcbca9",
   "metadata": {},
   "source": [
    "# Ques 1"
   ]
  },
  {
   "cell_type": "code",
   "execution_count": 108,
   "id": "f9eff171",
   "metadata": {},
   "outputs": [],
   "source": [
    "def linear_regression(X,Y, sig):\n",
    "    \n",
    "    chi2 = 0\n",
    "    S = 0\n",
    "    Sx = 0\n",
    "    Sy = 0\n",
    "    Sxx = 0\n",
    "    Sxy = 0\n",
    "    Syy = 0\n",
    "    Y1 = [0 for i in range(len(X))]\n",
    "    \n",
    "    for i in range(len(X)):\n",
    "        \n",
    "        S = S + 1/(sig[i]**2)\n",
    "        Sx = Sx + X[i]/(sig[i]**2)\n",
    "        Sy = Sy + Y[i]/(sig[i]**2)\n",
    "        Sxx = Sxx + (X[i]**2)/(sig[i]**2)\n",
    "        Sxy = Sxy + (X[i]*Y[i])/(sig[i]**2)\n",
    "        \n",
    "    delta = S*Sxx - (Sx**2)\n",
    "    a = (Sxx*Sy - Sx*Sxy)/delta\n",
    "    b = (S*Sxy - Sx*Sy)/delta\n",
    "        \n",
    "    covab = -Sx/delta\n",
    "    sig2_a = Sxx/delta\n",
    "    err_a = math.sqrt(sig2_a)\n",
    "    sig2_b = S/delta\n",
    "    err_b = math.sqrt(sig2_b)\n",
    "    for i in range(len(X)):\n",
    "        Y1[i] = a + b * X[i]\n",
    "        chi2 = chi2 + ((Y[i] - Y1[i])/sig[i])**2\n",
    "        \n",
    "    return a,b, covab, err_a, err_b\n",
    "\n",
    "def readfile(filename,start):\n",
    "    with open(filename,\"r+\") as f:\n",
    "        lines = f.readlines()\n",
    "        A=[]\n",
    "        for i in range(start,len(lines)):\n",
    "            A.append([float(j) for j in lines[i].split()])\n",
    "        del lines\n",
    "        return A"
   ]
  },
  {
   "cell_type": "code",
   "execution_count": 109,
   "id": "715d62c1",
   "metadata": {},
   "outputs": [],
   "source": [
    "\n",
    "# Read data from file\n",
    "data = pd.read_csv('esemfit.txt', sep='\\s+', header=None)\n",
    "time = data.iloc[:, 0]\n",
    "counts = data.iloc[:, 1]\n",
    "sigma = data.iloc[:, 2]\n",
    "\n",
    "# Calculating log\n",
    "ln_counts = np.log(counts)\n",
    "sigma_ln_counts = 1 / np.sqrt(counts)"
   ]
  },
  {
   "cell_type": "code",
   "execution_count": 110,
   "id": "9a485b3d",
   "metadata": {},
   "outputs": [],
   "source": [
    "\n",
    "a,t, covab, err_a, err_b=linear_regression(time, ln_counts , sigma_ln_counts)\n"
   ]
  },
  {
   "cell_type": "code",
   "execution_count": 111,
   "id": "ac2826bc",
   "metadata": {},
   "outputs": [
    {
     "name": "stdout",
     "output_type": "stream",
     "text": [
      "the lifetime of the radioactive material was 110.0380598212136\n",
      "The error in the lifetime was 17.042096605166556\n"
     ]
    }
   ],
   "source": [
    "lifetime = -1/t\n",
    "print('the lifetime of the radioactive material was',lifetime)\n",
    "\n",
    "error = lifetime * np.sqrt(np.sum(sigma_ln_counts ** 2) / (len(time) - 2))\n",
    "print('The error in the lifetime was',error)"
   ]
  },
  {
   "cell_type": "code",
   "execution_count": 112,
   "id": "cfbea947",
   "metadata": {},
   "outputs": [
    {
     "name": "stdout",
     "output_type": "stream",
     "text": [
      "The fit is acceptable at the 5% level of significance.\n"
     ]
    },
    {
     "data": {
      "image/png": "[encoded data removed]",
      "text/plain": [
       "<Figure size 432x288 with 1 Axes>"
      ]
     },
     "metadata": {
      "needs_background": "light"
     },
     "output_type": "display_data"
    },
    {
     "name": "stdout",
     "output_type": "stream",
     "text": [
      "Lifetime: 110.0381 ± 17.0421 s\n"
     ]
    }
   ],
   "source": [
    "# Check if the fit is acceptable at the 5% level of significance\n",
    "alpha = 0.05\n",
    "df = len(time) - 2 \n",
    "critical = scipy.stats.chi2.ppf(1 - alpha, df)\n",
    "\n",
    "# Calculate reduced χ²\n",
    "reduced_chi_square = (np.sum(((ln_counts - a - t * time) / sigma_ln_counts) ** 2) / (len(time) - 2))\n",
    "\n",
    "if reduced_chi_square < critical:\n",
    "    print(f'The fit is acceptable at the 5% level of significance.')\n",
    "else:\n",
    "    print(f'The fit is NOT acceptable at the 5% level of significance.')\n",
    "    \n",
    "# Plot data and fit\n",
    "plt.errorbar(time, ln_counts, yerr=sigma_ln_counts, fmt='o', label='Data')\n",
    "plt.plot(time, a + t * time, label=f'Fit: tau = {t:.4f} ± {error:.4f}')\n",
    "plt.xlabel('Time (s)')\n",
    "plt.ylabel('ln(Counts)')\n",
    "plt.title('Decaying Radioactive Source Fit')\n",
    "plt.legend()\n",
    "plt.show()\n",
    "\n",
    "# Print results\n",
    "print(f'Lifetime: {lifetime:.4f} ± {error:.4f} s')"
   ]
  },
  {
   "cell_type": "markdown",
   "id": "41dadff5",
   "metadata": {},
   "source": [
    "# Ques 2 :"
   ]
  },
  {
   "cell_type": "code",
   "execution_count": 33,
   "id": "18cf3055",
   "metadata": {},
   "outputs": [
    {
     "name": "stdout",
     "output_type": "stream",
     "text": [
      "V = 3.92995 L\n",
      "Number of iterations: 9\n"
     ]
    }
   ],
   "source": [
    "import numpy as np\n",
    "\n",
    "# Constants\n",
    "p = 5.95\n",
    "R = 0.0821\n",
    "a = 6.254\n",
    "b = 0.05422\n",
    "T = 300\n",
    "\n",
    "# Fixed point function for V\n",
    "def f(V):\n",
    "    return b + R*T/(p + a/(V**2))\n",
    "\n",
    "V = 1.0 # Initial guess for V\n",
    "e = 1e-5#Tolerance\n",
    "i = 1000#iterations\n",
    "\n",
    "#Fixed point iterations\n",
    "for i in range(i):\n",
    "    Vn = f(V)\n",
    "    diff = np.abs(Vn - V)\n",
    "    if diff < e:\n",
    "        break\n",
    "    V = Vn\n",
    "\n",
    "# Print the result\n",
    "print(\"V = {:.5f} L\".format(V))\n",
    "print(\"Number of iterations: {}\".format(i+1))"
   ]
  },
  {
   "cell_type": "code",
   "execution_count": 42,
   "id": "5f8bbb5d",
   "metadata": {},
   "outputs": [
    {
     "name": "stdout",
     "output_type": "stream",
     "text": [
      "V = 22846.61452 L\n",
      "Number of iterations: 35\n"
     ]
    }
   ],
   "source": [
    "#for another fixed point equation\n",
    "\n",
    "P = 5.95\n",
    "R = 0.0821\n",
    "a = 6.254\n",
    "b = 0.05422\n",
    "T = 300\n",
    "\n",
    "def f(V):\n",
    "    return np.sqrt(a*(V-b)/R*T-P*(V-b))\n",
    "\n",
    "V = 1.0 # Initial guess for V\n",
    "e = 1e-5\n",
    "i = 1000\n",
    "\n",
    "#Fixed point iterations\n",
    "for i in range(i):\n",
    "    Vn = f(V)\n",
    "    diff = np.abs(Vn - V)\n",
    "    if diff < e:\n",
    "        break\n",
    "    V = Vn\n",
    "\n",
    "# Print the result\n",
    "print(\"V = {:.5f} L\".format(V))\n",
    "print(\"Number of iterations: {}\".format(i+1))\n"
   ]
  },
  {
   "cell_type": "markdown",
   "id": "e10d12f7",
   "metadata": {},
   "source": [
    "Here, we can see that for different fixed point equations , we get different solutions for different fixed point equations, it is because we calculate from a fixed point, and take difference as we iterate, for different curves, that might be different."
   ]
  },
  {
   "cell_type": "markdown",
   "id": "954606c0",
   "metadata": {},
   "source": [
    "# Ques 5:"
   ]
  },
  {
   "cell_type": "code",
   "execution_count": 29,
   "id": "9e387b31",
   "metadata": {},
   "outputs": [
    {
     "name": "stdout",
     "output_type": "stream",
     "text": [
      "[[2.0, -1.0, 0.0, 0.0, 0.0], [-1.0, 2.0, -1.0, 0.0, 0.0], [0.0, -1.0, 2.0, -1.0, 0.0], [0.0, 0.0, -1.0, 2.0, -1.0], [0.0, 0.0, 0.0, -1.0, 2.0]]\n"
     ]
    }
   ],
   "source": [
    "Q=readfile(\"matrix5.txt\",0)\n",
    "print(Q)"
   ]
  },
  {
   "cell_type": "code",
   "execution_count": 27,
   "id": "de0a0d7f",
   "metadata": {},
   "outputs": [],
   "source": [
    "def power_method_find(A :list,x0: list,tol = 1e-6):\n",
    "    A=np.array(A)\n",
    "    x0=np.array(x0)\n",
    "    x_copy = np.copy(x0)\n",
    "    lam_0 = np.matmul(np.matmul(np.linalg.matrix_power(A,2),x0).T,np.matmul(np.linalg.matrix_power(A,1),x0))/np.matmul(np.matmul(np.linalg.matrix_power(A,1),x0).T,np.matmul(np.linalg.matrix_power(A,1),x0))\n",
    "    lam_1 = np.matmul(np.matmul(np.linalg.matrix_power(A,3),x0).T,np.matmul(np.linalg.matrix_power(A,2),x0))/np.matmul(np.matmul(np.linalg.matrix_power(A,2),x0).T,np.matmul(np.linalg.matrix_power(A,2),x0))\n",
    "    i=3\n",
    "    while abs(lam_1-lam_0)>tol:\n",
    "        lam_0 = lam_1\n",
    "        lam_1 = np.matmul(np.matmul(np.linalg.matrix_power(A,i+1),x0).T,np.matmul(np.linalg.matrix_power(A,i),x0))/np.matmul(np.matmul(np.linalg.matrix_power(A,i),x0).T,np.matmul(np.linalg.matrix_power(A,i),x0))\n",
    "        i+=1\n",
    "\n",
    "    eigval = lam_1\n",
    "    eigvec = np.matmul(np.linalg.matrix_power(A,i-1),x_copy)\n",
    "    norm = np.linalg.norm(eigvec)\n",
    "    eigvec = eigvec/norm\n",
    "    return eigval,eigvec,i  "
   ]
  },
  {
   "cell_type": "code",
   "execution_count": 30,
   "id": "b3afb0f1",
   "metadata": {},
   "outputs": [
    {
     "name": "stdout",
     "output_type": "stream",
     "text": [
      "The results are as follows:\n",
      "Maximum Eigenvalue:  3.7321\n",
      "Eigenvector corresponding to eigen value 4:  [ 0.2889 -0.5     0.5772 -0.5     0.2889]\n",
      "Number of steps:  16 (to reach the tolerance of 1e-6)\n"
     ]
    }
   ],
   "source": [
    "# the initial guess\n",
    "x0 = np.array([1, 1, 1, 1,1])\n",
    "\n",
    "eigval, eigvec,steps = power_method_find(Q, x0)\n",
    "\n",
    "print(\"The results are as follows:\")\n",
    "\n",
    "print(\"Maximum Eigenvalue: \", np.round(eigval, 4))\n",
    "print(f\"Eigenvector corresponding to eigen value {round(eigval)}: \", np.round(eigvec, 4))\n",
    "print(\"Number of steps: \", steps,\"(to reach the tolerance of 1e-6)\")"
   ]
  },
  {
   "cell_type": "markdown",
   "id": "5f7be850",
   "metadata": {},
   "source": [
    "# Ques 6"
   ]
  },
  {
   "cell_type": "code",
   "execution_count": 46,
   "id": "ecb6d5a7",
   "metadata": {},
   "outputs": [
    {
     "data": {
      "image/png": "[encoded data removed]",
      "text/plain": [
       "<Figure size 432x288 with 1 Axes>"
      ]
     },
     "metadata": {
      "needs_background": "light"
     },
     "output_type": "display_data"
    },
    {
     "name": "stdout",
     "output_type": "stream",
     "text": [
      "Success probability: 0.9090\n"
     ]
    }
   ],
   "source": [
    "#Using accept/reject method to generate pseudo random numbers.\n",
    "#given  in the question\n",
    "a = 2\n",
    "n = 1000\n",
    "\n",
    "# Generating the Gaussian distributed samples\n",
    "gauss = np.random.normal(0, 1, num_samples)\n",
    "\n",
    "samples = [] #accepted samples\n",
    "for x in gauss:\n",
    "    if np.abs(x) < a and np.random.uniform(0, 1) < 0.5 * (a**2 - x**2):\n",
    "        samples.append(x)\n",
    "\n",
    "# Plotting the generated distribution\n",
    "plt.hist(samples, bins=50, density=True)\n",
    "x = np.linspace(-a, a, 1000)\n",
    "y = 0.5 * (a**2 - x**2)\n",
    "plt.plot(x, y, 'r', linewidth=2)\n",
    "plt.title('Generated distribution for the pRNG')\n",
    "plt.xlabel('x')\n",
    "plt.ylabel('p(x)')\n",
    "plt.show()\n",
    "\n",
    "# Calculating success probability\n",
    "success_probability = len(samples) / n\n",
    "print(f'Success probability: {success_probability:.4f}')"
   ]
  },
  {
   "cell_type": "markdown",
   "id": "c274c5e7",
   "metadata": {},
   "source": [
    "# Ques 7"
   ]
  },
  {
   "cell_type": "code",
   "execution_count": 106,
   "id": "7e4e5b12",
   "metadata": {},
   "outputs": [
    {
     "data": {
      "image/png": "[encoded data removed]",
      "text/plain": [
       "<Figure size 432x288 with 1 Axes>"
      ]
     },
     "metadata": {
      "needs_background": "light"
     },
     "output_type": "display_data"
    },
    {
     "name": "stdout",
     "output_type": "stream",
     "text": [
      "Minimum Energy: (-25883.844032390603, 860360936.9669632, 1720721875.9339151, -51767.688611258665)\n",
      "Optimal Variational Parameter (a): 0.8842105263157896\n"
     ]
    }
   ],
   "source": [
    "#Define trial function\n",
    "def wf(x,alpha):#trial wavefunction\n",
    "    return 0.5*(alpha**2-x**2)\n",
    "\n",
    "\n",
    "#define prob density\n",
    "def prob_density(x,alpha):#The given trial wave function\n",
    "    return 0.25*(alpha**2-x**2)**2\n",
    "\n",
    "#define E local\n",
    "def E_local(x,alpha):#The local energy calculated in the text\n",
    "    return (-2)/(alpha**2-x**2)-x**2/2\n",
    "\n",
    "def metropolis(N, alpha):\n",
    "    L = 3/np.sqrt(2*alpha) #The length of the well\n",
    "    x = np.random.rand()*2*L-L #random number from -L to L\n",
    "    E = 0\n",
    "    E2 = 0\n",
    "    Eln_average = 0\n",
    "    ln_average = 0\n",
    "    rejection_ratio = 0\n",
    "    for i in range(N):\n",
    "        x_trial = x + 0.4*(np.random.rand()*2*L-L)\n",
    "        #x_trial = np.random.rand()*2*L-L\n",
    "        if prob_density(x_trial,alpha) >= prob_density(x,alpha):\n",
    "            x = x_trial\n",
    "        else:\n",
    "            dummy = np.random.rand()\n",
    "            if dummy < prob_density(x_trial,alpha)/prob_density(x,alpha):\n",
    "                x = x_trial\n",
    "            else:\n",
    "                rejection_ratio += 1/N\n",
    "        E += E_local(x,alpha)/N\n",
    "        E2 += E_local(x,alpha)**2/N\n",
    "        Eln_average += (E_local(x, alpha)*-x**2)/N\n",
    "        ln_average += -x**2/N\n",
    "\n",
    "    return E, E2, Eln_average, ln_average\n",
    "\n",
    "\n",
    "num_steps = 20000\n",
    "num_a_values = 20\n",
    "a_values = np.linspace(0.3, 4, num_a_values)\n",
    "\n",
    "energies = []\n",
    "for a in a_values:\n",
    "    energy = metropolis(num_steps, a)\n",
    "    energies.append(energy)\n",
    "\n",
    "# Find the minimum energy and the corresponding optimal alpha value\n",
    "min_energy = min(energies)\n",
    "optimal_a = a_values[np.argmin(energies)]\n",
    "\n",
    "# Plot the energy as a function of alpha\n",
    "plt.plot(a_values, energies, marker='o', color='b', linestyle='-')\n",
    "plt.xlabel('Variational Parameter (a)')\n",
    "plt.ylabel('Energy')\n",
    "plt.title('Energy vs. Variational Parameter')\n",
    "plt.grid(True)\n",
    "plt.show()\n",
    "\n",
    "print(\"Minimum Energy:\", min_energy)\n",
    "print(\"Optimal Variational Parameter (a):\", optimal_a)"
   ]
  },
  {
   "cell_type": "code",
   "execution_count": null,
   "id": "3335b11e",
   "metadata": {},
   "outputs": [],
   "source": []
  }
 ],
 "metadata": {
  "kernelspec": {
   "display_name": "Python 3 (ipykernel)",
   "language": "python",
   "name": "python3"
  },
  "language_info": {
   "codemirror_mode": {
    "name": "ipython",
    "version": 3
   },
   "file_extension": ".py",
   "mimetype": "text/x-python",
   "name": "python",
   "nbconvert_exporter": "python",
   "pygments_lexer": "ipython3",
   "version": "3.9.12"
  }
 },
 "nbformat": 4,
 "nbformat_minor": 5
}
